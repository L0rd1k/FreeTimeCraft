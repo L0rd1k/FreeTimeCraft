{
 "cells": [
  {
   "cell_type": "code",
   "execution_count": null,
   "metadata": {},
   "outputs": [
    {
     "name": "stdout",
     "output_type": "stream",
     "text": [
      "[[44.90216064 54.87266541 63.31124878 ... 64.14141846 55.65895081\n",
      "  45.60110474]\n",
      " [54.76428604 66.92481995 77.21724701 ... 78.31396484 67.9473114\n",
      "  55.66059113]\n",
      " [63.03347778 77.03038025 88.87740326 ... 90.26116943 78.29943848\n",
      "  64.12939453]\n",
      " ...\n",
      " [ 9.08969784 11.11348152 12.83218384 ... 12.69439697 11.15199089\n",
      "   9.23762894]\n",
      " [ 7.86263323  9.61346054 11.10131931 ... 11.00737381  9.67040253\n",
      "   8.01145744]\n",
      " [ 6.42747831  7.85885239  9.0757618  ...  9.01470184  7.91906261\n",
      "   6.56058025]]\n"
     ]
    }
   ],
   "source": [
    "import cv2\n",
    "import numpy as np\n",
    "\n",
    "image = cv2.imread(\"../Images/Cropped_Runway_Images/00104.png\")\n",
    "gray_image = cv2.cvtColor(image,cv2.COLOR_RGB2GRAY)\n",
    "\n",
    "def convolutionOperation(image, kernel):\n",
    "    image_height = image.shape[0]\n",
    "    image_widht = image.shape[1]\n",
    "    \n",
    "    kernel_height = kernel.shape[0]\n",
    "    kernel_width = kernel.shape[1]\n",
    "    if(len(image.shape) == 3):\n",
    "        image_padding = np.pad(image, pad_width=((kernel_height // 2, kernel_height // 2),(kernel_width // 2, kernel_width // 2),(0,0)), mode='constant',constant_values=0).astype(np.float32)\n",
    "    elif(len(image.shape) == 2):\n",
    "        image_padding = np.pad(image, pad_width=((kernel_height // 2, kernel_height // 2),(kernel_width // 2, kernel_width // 2)), mode='constant',constant_values=0).astype(np.float32)\n",
    "    height = kernel_height // 2\n",
    "    width = kernel_width // 2\n",
    "    image_convolution = np.zeros(image_padding.shape)\n",
    "    for i in range(height, image_padding.shape[0] - height):\n",
    "        for j in range(width, image_padding.shape[1] - width):\n",
    "            x = image_padding[i-height:i-height+kernel_height, j-width:j-width+kernel_width]\n",
    "            x = x.flatten()*kernel.flatten()\n",
    "            image_convolution[i][j] = x.sum()\n",
    "    height_end = -height\n",
    "    width_end = -width\n",
    "    if(height == 0):\n",
    "        return image_convolution[height:,width:width_end]\n",
    "    if(width == 0):\n",
    "        return image_convolution[height:height_end,width:]\n",
    "    print(image_convolution[height:height_end,width:width_end])\n",
    "    return image_convolution[height:height_end,width:width_end]\n",
    "\n",
    "def GaussianBlurImage(image, sigma):\n",
    "    filter_size = 2 * int(4 * sigma + 0.5) + 1\n",
    "    gaussian_filter =np.zeros((filter_size, filter_size), np.float32)\n",
    "    m = filter_size // 2\n",
    "    n = filter_size // 2\n",
    "    for x in range(-m, m + 1):\n",
    "        for y in range(-n, n + 1):\n",
    "            x1 = 2 * np.pi * (sigma**2)\n",
    "            x2 = np.exp(-(x**2 + y**2)/(2 * sigma**2))\n",
    "            gaussian_filter[x+m, y+n] = (1/x1) * x2\n",
    "    im_filtered = np.zeros_like(image,dtype = np.float32)\n",
    "    for c in range(3):\n",
    "        im_filtered[:, :, c] = convolutionOperation(image[:, :, c], gaussian_filter)\n",
    "    return (im_filtered.astype(np.uint8))\n",
    "\n",
    "    \n",
    "result = GaussianBlurImage(image, 3)\n",
    "cv2.imshow(\"Original image\", image)\n",
    "cv2.imshow(\"Gaussian smooting\", result)\n",
    "cv2.waitKey(0)"
   ]
  },
  {
   "cell_type": "code",
   "execution_count": null,
   "metadata": {},
   "outputs": [],
   "source": [
    "# OPENCV WAY\n",
    "gaussian = cv2.GaussianBlur(image,(10,10),1) \n",
    "cv2.imshow(\"Original image\", image)\n",
    "cv2.imshow(\"Gaussian smooting\", gaussian)\n",
    "cv2.waitKey(0)    \n"
   ]
  },
  {
   "cell_type": "code",
   "execution_count": null,
   "metadata": {},
   "outputs": [],
   "source": []
  }
 ],
 "metadata": {
  "kernelspec": {
   "display_name": "Python 3",
   "language": "python",
   "name": "python3"
  },
  "language_info": {
   "codemirror_mode": {
    "name": "ipython",
    "version": 3
   },
   "file_extension": ".py",
   "mimetype": "text/x-python",
   "name": "python",
   "nbconvert_exporter": "python",
   "pygments_lexer": "ipython3",
   "version": "3.6.9"
  }
 },
 "nbformat": 4,
 "nbformat_minor": 2
}
