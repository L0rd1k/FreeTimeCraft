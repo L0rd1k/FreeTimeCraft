{
 "cells": [
  {
   "cell_type": "code",
   "execution_count": 1,
   "metadata": {},
   "outputs": [],
   "source": [
    "import matplotlib.pyplot as plt\n",
    "import numpy as np\n",
    "import cv2\n",
    "\n",
    "small_image = cv2.imread(\"./Images3/img_0017_aligned_small.jpg\")\n",
    "big_image = cv2.imread(\"./Images3/map17_small.jpg\")\n",
    "\n",
    "def imageFiltration(small_image, big_image):\n",
    "    small_image = cv2.cvtColor(small_image, cv2.COLOR_BGR2GRAY)\n",
    "    big_image = cv2.cvtColor(big_image, cv2.COLOR_BGR2GRAY)\n",
    "    bilateral_result = list()\n",
    "    gaussian_result = list()\n",
    "    for index, elem in enumerate([small_image, big_image], 0):\n",
    "        bilateral_filter = cv2.bilateralFilter(elem, 9, 75, 75)\n",
    "        gaussian_filter = cv2.GaussianBlur(bilateral_filter, (5, 5), 3)\n",
    "        gaussian_result.append(gaussian_filter)\n",
    "    #         cv2.imshow(\"Bilateral\" + str(index), bilateral_filter)\n",
    "    #         cv2.imshow(\"Gaussian\" + str(index), gaussian_filter)\n",
    "    return gaussian_result"
   ]
  },
  {
   "cell_type": "code",
   "execution_count": 2,
   "metadata": {},
   "outputs": [
    {
     "ename": "error",
     "evalue": "OpenCV(4.1.1) C:\\projects\\opencv-python\\opencv\\modules\\imgproc\\src\\color.cpp:182: error: (-215:Assertion failed) !_src.empty() in function 'cv::cvtColor'\n",
     "output_type": "error",
     "traceback": [
      "\u001b[1;31m---------------------------------------------------------------------------\u001b[0m",
      "\u001b[1;31merror\u001b[0m                                     Traceback (most recent call last)",
      "\u001b[1;32m<ipython-input-2-e2b5365b3c51>\u001b[0m in \u001b[0;36m<module>\u001b[1;34m\u001b[0m\n\u001b[0;32m     48\u001b[0m \u001b[1;31m#         cv2.rectangle(big, (xA, yA), (xB, yB), (0,255,0), 1)\u001b[0m\u001b[1;33m\u001b[0m\u001b[1;33m\u001b[0m\u001b[1;33m\u001b[0m\u001b[0m\n\u001b[0;32m     49\u001b[0m \u001b[1;33m\u001b[0m\u001b[0m\n\u001b[1;32m---> 50\u001b[1;33m \u001b[0mhogMatching\u001b[0m\u001b[1;33m(\u001b[0m\u001b[0msmall_image\u001b[0m\u001b[1;33m,\u001b[0m \u001b[0mbig_image\u001b[0m\u001b[1;33m)\u001b[0m\u001b[1;33m\u001b[0m\u001b[1;33m\u001b[0m\u001b[0m\n\u001b[0m\u001b[0;32m     51\u001b[0m \u001b[0mcv2\u001b[0m\u001b[1;33m.\u001b[0m\u001b[0mwaitKey\u001b[0m\u001b[1;33m(\u001b[0m\u001b[1;36m0\u001b[0m\u001b[1;33m)\u001b[0m\u001b[1;33m\u001b[0m\u001b[1;33m\u001b[0m\u001b[0m\n",
      "\u001b[1;32m<ipython-input-2-e2b5365b3c51>\u001b[0m in \u001b[0;36mhogMatching\u001b[1;34m(small_image, big_image)\u001b[0m\n\u001b[0;32m     10\u001b[0m     \u001b[0mblockSize\u001b[0m \u001b[1;33m=\u001b[0m \u001b[1;33m(\u001b[0m\u001b[1;36m32\u001b[0m\u001b[1;33m,\u001b[0m \u001b[1;36m32\u001b[0m\u001b[1;33m)\u001b[0m\u001b[1;33m\u001b[0m\u001b[1;33m\u001b[0m\u001b[0m\n\u001b[0;32m     11\u001b[0m     \u001b[0mblockStride\u001b[0m \u001b[1;33m=\u001b[0m \u001b[1;33m(\u001b[0m\u001b[1;36m16\u001b[0m\u001b[1;33m,\u001b[0m \u001b[1;36m16\u001b[0m\u001b[1;33m)\u001b[0m\u001b[1;33m\u001b[0m\u001b[1;33m\u001b[0m\u001b[0m\n\u001b[1;32m---> 12\u001b[1;33m     \u001b[0mgaussian_r\u001b[0m \u001b[1;33m=\u001b[0m \u001b[0mimageFiltration\u001b[0m\u001b[1;33m(\u001b[0m\u001b[0msmall_image\u001b[0m\u001b[1;33m,\u001b[0m \u001b[0mbig_image\u001b[0m\u001b[1;33m)\u001b[0m\u001b[1;33m\u001b[0m\u001b[1;33m\u001b[0m\u001b[0m\n\u001b[0m\u001b[0;32m     13\u001b[0m     \u001b[0msmall\u001b[0m\u001b[1;33m,\u001b[0m \u001b[0mbig\u001b[0m \u001b[1;33m=\u001b[0m \u001b[0mgaussian_r\u001b[0m\u001b[1;33m[\u001b[0m\u001b[1;36m0\u001b[0m\u001b[1;33m]\u001b[0m\u001b[1;33m,\u001b[0m \u001b[0mgaussian_r\u001b[0m\u001b[1;33m[\u001b[0m\u001b[1;36m1\u001b[0m\u001b[1;33m]\u001b[0m\u001b[1;33m\u001b[0m\u001b[1;33m\u001b[0m\u001b[0m\n\u001b[0;32m     14\u001b[0m \u001b[1;33m\u001b[0m\u001b[0m\n",
      "\u001b[1;32m<ipython-input-1-dba90db275b6>\u001b[0m in \u001b[0;36mimageFiltration\u001b[1;34m(small_image, big_image)\u001b[0m\n\u001b[0;32m      7\u001b[0m \u001b[1;33m\u001b[0m\u001b[0m\n\u001b[0;32m      8\u001b[0m \u001b[1;32mdef\u001b[0m \u001b[0mimageFiltration\u001b[0m\u001b[1;33m(\u001b[0m\u001b[0msmall_image\u001b[0m\u001b[1;33m,\u001b[0m \u001b[0mbig_image\u001b[0m\u001b[1;33m)\u001b[0m\u001b[1;33m:\u001b[0m\u001b[1;33m\u001b[0m\u001b[1;33m\u001b[0m\u001b[0m\n\u001b[1;32m----> 9\u001b[1;33m     \u001b[0msmall_image\u001b[0m \u001b[1;33m=\u001b[0m \u001b[0mcv2\u001b[0m\u001b[1;33m.\u001b[0m\u001b[0mcvtColor\u001b[0m\u001b[1;33m(\u001b[0m\u001b[0msmall_image\u001b[0m\u001b[1;33m,\u001b[0m \u001b[0mcv2\u001b[0m\u001b[1;33m.\u001b[0m\u001b[0mCOLOR_BGR2GRAY\u001b[0m\u001b[1;33m)\u001b[0m\u001b[1;33m\u001b[0m\u001b[1;33m\u001b[0m\u001b[0m\n\u001b[0m\u001b[0;32m     10\u001b[0m     \u001b[0mbig_image\u001b[0m \u001b[1;33m=\u001b[0m \u001b[0mcv2\u001b[0m\u001b[1;33m.\u001b[0m\u001b[0mcvtColor\u001b[0m\u001b[1;33m(\u001b[0m\u001b[0mbig_image\u001b[0m\u001b[1;33m,\u001b[0m \u001b[0mcv2\u001b[0m\u001b[1;33m.\u001b[0m\u001b[0mCOLOR_BGR2GRAY\u001b[0m\u001b[1;33m)\u001b[0m\u001b[1;33m\u001b[0m\u001b[1;33m\u001b[0m\u001b[0m\n\u001b[0;32m     11\u001b[0m     \u001b[0mbilateral_result\u001b[0m \u001b[1;33m=\u001b[0m \u001b[0mlist\u001b[0m\u001b[1;33m(\u001b[0m\u001b[1;33m)\u001b[0m\u001b[1;33m\u001b[0m\u001b[1;33m\u001b[0m\u001b[0m\n",
      "\u001b[1;31merror\u001b[0m: OpenCV(4.1.1) C:\\projects\\opencv-python\\opencv\\modules\\imgproc\\src\\color.cpp:182: error: (-215:Assertion failed) !_src.empty() in function 'cv::cvtColor'\n"
     ]
    }
   ],
   "source": [
    "def inside(r, q):\n",
    "    rx, ry, rw, rh = r\n",
    "    qx, qy, qw, qh = q\n",
    "    return rx > qx and ry > qy and rx + rw < qx + qw and ry + rh < qy + qh\n",
    "\n",
    "def hogMatching(small_image, big_image):\n",
    "    winSize = (256, 256)\n",
    "    cellSize = (16, 16)\n",
    "    blockSize = (32, 32)\n",
    "    blockStride = (16, 16)\n",
    "    gaussian_r = imageFiltration(small_image, big_image)\n",
    "    small, big = gaussian_r[0], gaussian_r[1]\n",
    "\n",
    "    hog = cv2.HOGDescriptor(winSize, blockSize, blockStride, cellSize, 9)\n",
    "\n",
    "    feature_small = hog.compute(small)\n",
    "    hog.setSVMDetector(feature_small)\n",
    "\n",
    "    rectPoints, weights = hog.detect(big)\n",
    "    rectPoints = np.array([[x, y, winSize[0], winSize[1]] for (x, y) in rectPoints])\n",
    "    found_filtered = list()\n",
    "\n",
    "    for ri, r in enumerate(rectPoints):\n",
    "        for qi, q in enumerate(rectPoints):\n",
    "            if ri != qi and inside(r, q):\n",
    "                break\n",
    "        else:\n",
    "            found_filtered.append(r)\n",
    "\n",
    "\n",
    "    for iter,(xA,yA,xB,yB) in found_filtered:\n",
    "        cv2.rectangle(big,(xA, yA), (xB, yB), (0,255,0), 1)\n",
    "\n",
    "    cv2.imshow(\"Big\", big)\n",
    "        \n",
    "hogMatching(small_image, big_image)\n",
    "cv2.waitKey(0)"
   ]
  },
  {
   "cell_type": "code",
   "execution_count": null,
   "metadata": {},
   "outputs": [],
   "source": []
  }
 ],
 "metadata": {
  "kernelspec": {
   "display_name": "Python 3",
   "language": "python",
   "name": "python3"
  },
  "language_info": {
   "codemirror_mode": {
    "name": "ipython",
    "version": 3
   },
   "file_extension": ".py",
   "mimetype": "text/x-python",
   "name": "python",
   "nbconvert_exporter": "python",
   "pygments_lexer": "ipython3",
   "version": "3.7.3"
  }
 },
 "nbformat": 4,
 "nbformat_minor": 2
}
