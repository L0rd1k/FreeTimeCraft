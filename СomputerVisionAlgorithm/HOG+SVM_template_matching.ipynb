{
 "cells": [
  {
   "cell_type": "code",
   "execution_count": 4,
   "metadata": {},
   "outputs": [],
   "source": [
    "import matplotlib.pyplot as plt\n",
    "import numpy as np\n",
    "import cv2\n",
    "\n",
    "small_image = cv2.imread(\"./Images3/img_0017_aligned_small.jpg\")\n",
    "big_image = cv2.imread(\"./Images3/map17_small.jpg\")\n",
    "\n",
    "def imageFiltration(small_image, big_image):\n",
    "    small_image = cv2.cvtColor(small_image, cv2.COLOR_BGR2GRAY)\n",
    "    big_image = cv2.cvtColor(big_image, cv2.COLOR_BGR2GRAY)\n",
    "    bilateral_result = list()\n",
    "    gaussian_result = list()\n",
    "    for index, elem in enumerate([small_image, big_image], 0):\n",
    "        bilateral_filter = cv2.bilateralFilter(elem, 9, 75, 75)\n",
    "        gaussian_filter = cv2.GaussianBlur(bilateral_filter, (5, 5), 3)\n",
    "        gaussian_result.append(gaussian_filter)\n",
    "    #         cv2.imshow(\"Bilateral\" + str(index), bilateral_filter)\n",
    "    #         cv2.imshow(\"Gaussian\" + str(index), gaussian_filter)\n",
    "    return gaussian_result"
   ]
  },
  {
   "cell_type": "code",
   "execution_count": null,
   "metadata": {},
   "outputs": [],
   "source": [
    "def inside(r, q):\n",
    "    rx, ry, rw, rh = r\n",
    "    qx, qy, qw, qh = q\n",
    "    return rx > qx and ry > qy and rx + rw < qx + qw and ry + rh < qy + qh\n",
    "\n",
    "def hogMatching(small_image, big_image):\n",
    "    winSize = (256, 256)\n",
    "    cellSize = (16, 16)\n",
    "    blockSize = (32, 32)\n",
    "    blockStride = (16, 16)\n",
    "    gaussian_r = imageFiltration(small_image, big_image)\n",
    "    small, big = gaussian_r[0], gaussian_r[1]\n",
    "\n",
    "    hog = cv2.HOGDescriptor(winSize, blockSize, blockStride, cellSize, 9)\n",
    "\n",
    "    feature_small = hog.compute(small)\n",
    "    hog.setSVMDetector(feature_small)\n",
    "\n",
    "    rectPoints, weights = hog.detect(big)\n",
    "    rectPoints = np.array([[x, y, winSize[0], winSize[1]] for (x, y) in rectPoints])\n",
    "    found_filtered = list()\n",
    "\n",
    "    for ri, r in enumerate(rectPoints):\n",
    "        for qi, q in enumerate(rectPoints):\n",
    "            if ri != qi and inside(r, q):\n",
    "                break\n",
    "        else:\n",
    "            found_filtered.append(r)\n",
    "\n",
    "\n",
    "    for iter,(xA,yA,xB,yB) in found_filtered:\n",
    "        cv2.rectangle(big,(xA, yA), (xB, yB), (0,255,0), 1)\n",
    "\n",
    "    cv2.imshow(\"Big\", big)\n",
    "        \n",
    "hogMatching(small_image, big_image)\n",
    "cv2.waitKey(0)"
   ]
  },
  {
   "cell_type": "code",
   "execution_count": 9,
   "metadata": {},
   "outputs": [
    {
     "name": "stdout",
     "output_type": "stream",
     "text": [
      "[[-1  0  1]\n",
      " [-2  0  2]\n",
      " [-1  0  1]]\n",
      "[[1 2 2]\n",
      " [1 1 0]\n",
      " [2 4 1]]\n",
      "[[-5 -1  5]\n",
      " [-8  2  8]\n",
      " [-9  3  9]]\n",
      "[-5  0  3]\n"
     ]
    }
   ],
   "source": [
    "import scipy.signal as sig\n",
    "\n",
    "kernel_x = np.array([[-1, 0, 1],[-2, 0, 2],[-1, 0, 1]])\n",
    "print(kernel_x)\n",
    "origin_x = np.array([[1, 2, 2],[1 ,1, 0],[2, 4, 1]])\n",
    "print(origin_x)\n",
    "G_x = sig.convolve2d(origin_x, kernel_x, mode='same') \n",
    "print(G_x)\n",
    "result = x * kernel_x\n"
   ]
  },
  {
   "cell_type": "code",
   "execution_count": null,
   "metadata": {},
   "outputs": [],
   "source": []
  }
 ],
 "metadata": {
  "kernelspec": {
   "display_name": "Python 3",
   "language": "python",
   "name": "python3"
  },
  "language_info": {
   "codemirror_mode": {
    "name": "ipython",
    "version": 3
   },
   "file_extension": ".py",
   "mimetype": "text/x-python",
   "name": "python",
   "nbconvert_exporter": "python",
   "pygments_lexer": "ipython3",
   "version": "3.7.3"
  }
 },
 "nbformat": 4,
 "nbformat_minor": 2
}
