{
 "cells": [
  {
   "cell_type": "code",
   "execution_count": null,
   "metadata": {},
   "outputs": [],
   "source": [
    "import cv2\n",
    "import sys\n",
    "import numpy as np\n",
    "\n",
    "cap = cv2.VideoCapture(\"../Images/Racer.mp4\")\n",
    "\n",
    "ret, frame = cap.read()\n",
    "boundingBox = cv2.selectROI(np.array(frame), False, True)\n",
    "cv2.destroyAllWindows()\n",
    "\n",
    "tracker = cv2.TrackerMedianFlow_create()\n",
    "status_tracker = tracker.init(frame, boundingBox)\n",
    "fps = 0\n",
    "\n",
    "while True:\n",
    "    status_cap, frame = cap.read()\n",
    "    \n",
    "    if status_tracker:\n",
    "        timer = cv2.getTickCount()\n",
    "        status_tracker, boundingBox = tracker.update(frame)   \n",
    "    if status_tracker:\n",
    "        x, y, w, h = [int(i) for i in boundingBox]\n",
    "        cv2.rectangle(frame, (x, y), (x + w, y + h), (255, 255, 255), 3)\n",
    "        fps = cv2.getTickFrequency() / (cv2.getTickCount() - timer);     \n",
    "    \n",
    "    cv2.imshow(\"MedianFlow tracker\", frame)\n",
    "    k = cv2.waitKey(1)\n",
    "    \n",
    "    if k == 27: \n",
    "        break\n",
    "    \n",
    "cv2.destroyAllWindows()"
   ]
  },
  {
   "cell_type": "code",
   "execution_count": null,
   "metadata": {},
   "outputs": [],
   "source": []
  }
 ],
 "metadata": {
  "kernelspec": {
   "display_name": "Python 3",
   "language": "python",
   "name": "python3"
  }
 },
 "nbformat": 4,
 "nbformat_minor": 2
}
