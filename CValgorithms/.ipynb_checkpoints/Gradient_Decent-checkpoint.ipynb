{
 "cells": [
  {
   "cell_type": "code",
   "execution_count": 28,
   "metadata": {},
   "outputs": [
    {
     "name": "stdout",
     "output_type": "stream",
     "text": [
      "[[5.32135957]\n",
      " [0.96005638]]\n",
      "[[5.32135957]\n",
      " [7.24147233]]\n"
     ]
    },
    {
     "data": {
      "image/png": "[encoded data removed]",
      "text/plain": [
       "<Figure size 432x288 with 1 Axes>"
      ]
     },
     "metadata": {},
     "output_type": "display_data"
    }
   ],
   "source": [
    "import numpy as np;\n",
    "import matplotlib.pyplot as plt\n",
    "%matplotlib inline\n",
    "\n",
    "#GENERATE IMAGINARY DATA\n",
    "plt.style.use(['ggplot'])\n",
    "X = 2 * np.random.rand(100,1)\n",
    "Y = 5 + 1 * X + np.random.randn(100,1)\n",
    "\n",
    "plt.plot(X, Y, 'b.')\n",
    "plt.xlabel(\"$X$\", fontsize=18)\n",
    "__result__  = plt.ylabel(\"$Y$\", rotation=0, fontsize=18)\n",
    "\n",
    "#LINEAR REGRESSION\n",
    "X_b = np.c_[np.ones((100,1)),X]\n",
    "theta_best = np.linalg.inv(X_b.T.dot(X_b)).dot(X_b.T).dot(Y)\n",
    "print(theta_best)\n",
    "\n",
    "X_new = np.array([[0],[2]])\n",
    "X_new_b = np.c_[np.ones((2,1)),X_new]\n",
    "y_predict = X_new_b.dot(theta_best)\n",
    "print(y_predict)\n",
    "\n",
    "\n",
    "\n",
    "plt.plot(X_new,y_predict,'r-')\n",
    "plt.plot(X,Y,'b.')\n",
    "\n"
   ]
  },
  {
   "cell_type": "code",
   "execution_count": null,
   "metadata": {},
   "outputs": [],
   "source": []
  }
 ],
 "metadata": {
  "kernelspec": {
   "display_name": "Python 3",
   "language": "python",
   "name": "python3"
  },
  "language_info": {
   "codemirror_mode": {
    "name": "ipython",
    "version": 3
   },
   "file_extension": ".py",
   "mimetype": "text/x-python",
   "name": "python",
   "nbconvert_exporter": "python",
   "pygments_lexer": "ipython3",
   "version": "3.6.6"
  }
 },
 "nbformat": 4,
 "nbformat_minor": 2
}
