{
 "cells": [
  {
   "cell_type": "code",
   "execution_count": null,
   "metadata": {},
   "outputs": [],
   "source": [
    "import cv2\n",
    "import sys\n",
    "import numpy as np\n",
    "\n",
    "cap = cv2.VideoCapture(0)\n",
    "\n",
    "ret, frame = cap.read()\n",
    "boundingBox = cv2.selectROI(np.array(frame), False, True)\n",
    "cv2.destroyAllWindows()\n",
    "\n",
    "tracker = cv2.TrackerMedianFlow_create()\n",
    "status_tracker = tracker.init(frame, boundingBox)\n",
    "fps = 0\n",
    "\n",
    "while True:\n",
    "    status_cap, frame = cap.read()\n",
    "    \n",
    "    out = cv2.VideoWriter('outpy.avi',cv2.VideoWriter_fourcc('M','J','P','G'), 10, (frame_width,frame_height))\n",
    "    out.write(frame)\n",
    "    \n",
    "#     if not status_cap:\n",
    "#         break\n",
    "\n",
    "#     if status_tracker:\n",
    "#         timer = cv2.getTickCount()\n",
    "#         status_tracker, boundingBox = tracker.update(frame)\n",
    "        \n",
    "#     if status_tracker:\n",
    "#         x, y, w, h = [int(i) for i in boundingBox]\n",
    "#         cv2.rectangle(frame, (x, y), (x + w, y + h), (255, 255, 255), 3)\n",
    "#         fps = cv2.getTickFrequency() / (cv2.getTickCount() - timer);\n",
    "#         cv2.putText(frame, \"FPS: %.0f\" % fps, (0, 80), cv2.FONT_HERSHEY_SIMPLEX, 3.5, (0, 0, 0), 8);\n",
    "#     else:\n",
    "#         cv2.putText(frame, \"Tracking failure detected\", (0, 80), cv2.FONT_HERSHEY_SIMPLEX, 3.5, (0,0,255), 8)\n",
    "        \n",
    "    cv2.imshow(\"MedianFlow tracker\", frame)\n",
    "\n",
    "    k = cv2.waitKey(1)\n",
    "    \n",
    "    if k == 27: \n",
    "        break\n",
    "    \n",
    "cv2.destroyAllWindows()"
   ]
  },
  {
   "cell_type": "code",
   "execution_count": null,
   "metadata": {},
   "outputs": [],
   "source": []
  },
  {
   "cell_type": "code",
   "execution_count": null,
   "metadata": {},
   "outputs": [],
   "source": []
  }
 ],
 "metadata": {
  "kernelspec": {
   "display_name": "Python 3",
   "language": "python",
   "name": "python3"
  },
  "language_info": {
   "codemirror_mode": {
    "name": "ipython",
    "version": 3
   },
   "file_extension": ".py",
   "mimetype": "text/x-python",
   "name": "python",
   "nbconvert_exporter": "python",
   "pygments_lexer": "ipython3",
   "version": "3.7.3"
  }
 },
 "nbformat": 4,
 "nbformat_minor": 2
}
