{
 "cells": [
  {
   "cell_type": "code",
   "execution_count": 1,
   "metadata": {},
   "outputs": [],
   "source": [
    "import numpy as np\n",
    "import matplotlib.pyplot as plt\n",
    "import cv2\n",
    "cap = cv2.VideoCapture(\"/opt/data/videos/OES-footage/ch0_2018.12.06_12.46.19.avi\")\n",
    "\n",
    "#while(True):\n",
    "#    ret, frame = cap.read()\n",
    "#    if frame.all() == None:\n",
    "#        print(\"Empty Frame\")\n",
    "#        break\n",
    "#    #gray = cv2.cvtColor(frame, cv2.COLOR_BGR2GRAY)\n",
    "#    cv2.imshow('frame',frame)\n",
    "#    if cv2.waitKey(30) & 0xFF == ord('q'):\n",
    "#        break\n",
    "#        \n",
    "#cap.release()    \n",
    "#cv2.destroyAllWindows()    "
   ]
  },
  {
   "cell_type": "code",
   "execution_count": 2,
   "metadata": {},
   "outputs": [
    {
     "name": "stdout",
     "output_type": "stream",
     "text": [
      "438\n",
      "700\n",
      "219.0\n",
      "350.0\n"
     ]
    },
    {
     "data": {
      "image/png": "[encoded data removed]",
      "text/plain": [
       "<Figure size 432x288 with 1 Axes>"
      ]
     },
     "metadata": {},
     "output_type": "display_data"
    },
    {
     "data": {
      "text/plain": [
       "-1"
      ]
     },
     "execution_count": 2,
     "metadata": {},
     "output_type": "execute_result"
    }
   ],
   "source": [
    "#def make_coordinates(image,line_parameter):\n",
    "#    slope, intercept = line_parameter\n",
    "#    y1 = image.shape[0]\n",
    "#    y2 = int(y1*(3/5))\n",
    "#    x1 = int((y1 - intercept)/slope)\n",
    "#    x2 = int((y2 - intercept)/slope)\n",
    "#    return np.array([x1,y1,x2,y2])\n",
    "\n",
    "#def average_slope_intercept(image,lines):\n",
    "#    left_fit = []\n",
    "#    right_fit = []\n",
    "#    for line in lines:\n",
    "#        x1,y1,x2,y2 = line.reshape(4)\n",
    "#        parameters = np.polyfit((x1,x2), (y1,y2), 1)\n",
    "#        slope = parameters[0]\n",
    "#        intercept = parameters[1]\n",
    "#        if slope < 0:\n",
    "#            left_fit.append((slope,intercept))\n",
    "#        else:\n",
    "#            right_fit.append((slope,intercept))\n",
    "#    left_fit_average = np.average(left_fit, axis=0)\n",
    "#    right_fit_average = np.average(right_fit, axis=0)\n",
    "#    left_line = make_coordinates(image,left_fit_average)\n",
    "#    right_line = make_coordinates(image,right_fit_average)\n",
    "#    return np.array([left_line, right_line])                 \n",
    "\n",
    "def canny_transform(image):\n",
    "    gray = cv2.cvtColor(image,cv2.COLOR_RGB2GRAY)\n",
    "    blur = cv2.GaussianBlur(gray, (5,5), 0)\n",
    "    canny = cv2.Canny(blur, 50, 150)\n",
    "    return canny\n",
    "\n",
    "def ROI(image):\n",
    "    height = image.shape[0]\n",
    "    width = image.shape[1]\n",
    "    print(height)\n",
    "    print(width)\n",
    "    re_h = height/2\n",
    "    re_w = width/2\n",
    "    print(re_h)\n",
    "    print(re_w)\n",
    "    re_tm1 = width/3\n",
    "    re_tm2 = width - re_tm1\n",
    "    polygons = np.array([\n",
    "    [(0, height), (width, height), (re_tm2,re_h),(re_tm1,re_h)]\n",
    "    ])\n",
    "    mask = np.zeros_like(image)\n",
    "    \n",
    "    cv2.fillPoly(mask, np.array([polygons], dtype=np.int32), 255)\n",
    "    masked_image = cv2.bitwise_and(image,mask)\n",
    "    return masked_image\n",
    "    \n",
    "def display_lines(image, lines):\n",
    "    line_image = np.zeros_like(image)\n",
    "    if lines is not None:\n",
    "        for line in lines:\n",
    "            x1, y1, x2, y2 = line.reshape(4)\n",
    "            cv2.line(line_image, (x1,y1),(x2,y2),(255,0,0),10)\n",
    "    return line_image\n",
    "            \n",
    "image = cv2.imread(r\"C:\\Users\\Asus\\Documents\\Anaconda\\Self-Driving-Car\\Road3.jpg\")\n",
    "lane_image = np.copy(image)\n",
    "\n",
    "canny_image = canny_transform(lane_image)\n",
    "cv2.imshow(\"Canny\",canny_image)\n",
    "\n",
    "\n",
    "cropped_image = ROI(canny_image)\n",
    "lines = cv2.HoughLinesP(cropped_image,2, np.pi/180,100,np.array([]),minLineLength=20,maxLineGap=5)\n",
    "\n",
    "#averaged_lines = average_slope_intercept(lane_image,lines)\n",
    "\n",
    "line_image = display_lines(lane_image, lines)\n",
    "cv2.imshow(\"Lines\",line_image)\n",
    "\n",
    "\n",
    "combo_image = cv2.addWeighted(lane_image, 0.8, line_image,1,1)\n",
    "plt.imshow(canny_image)\n",
    "plt.show()\n",
    "cv2.imshow(\"Result\",combo_image)\n",
    "cv2.waitKey(0)"
   ]
  },
  {
   "cell_type": "code",
   "execution_count": null,
   "metadata": {},
   "outputs": [],
   "source": []
  }
 ],
 "metadata": {
  "kernelspec": {
   "display_name": "Python 3",
   "language": "python",
   "name": "python3"
  },
  "language_info": {
   "codemirror_mode": {
    "name": "ipython",
    "version": 3
   },
   "file_extension": ".py",
   "mimetype": "text/x-python",
   "name": "python",
   "nbconvert_exporter": "python",
   "pygments_lexer": "ipython3",
   "version": "3.6.5"
  }
 },
 "nbformat": 4,
 "nbformat_minor": 2
}
