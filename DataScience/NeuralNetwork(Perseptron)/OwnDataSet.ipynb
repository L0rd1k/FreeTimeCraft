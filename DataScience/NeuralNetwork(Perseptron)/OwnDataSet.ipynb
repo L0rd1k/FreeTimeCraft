{
 "cells": [
  {
   "cell_type": "code",
   "execution_count": 30,
   "metadata": {},
   "outputs": [],
   "source": [
    "import numpy\n",
    "import scipy.special\n",
    "import matplotlib.pyplot\n",
    "import glob\n",
    "import imageio\n",
    "%matplotlib inline\n",
    "# определение класса нейронной сети\n",
    "class neuralNetwork:\n",
    "    \n",
    "    # инициализировать нейронную сеть\n",
    "    def __init__(self,inputnodes,hiddennodes,outputnodes,learningrate):\n",
    "        \n",
    "        self.inodes = inputnodes #кол-во узлов во входном слое\n",
    "        self.hnodes = hiddennodes #кол-во узлов в крытом слое\n",
    "        self.onodes = outputnodes #кол-во узлов в выходном слое\n",
    "        \n",
    "        # 1) центр нормального распределения установлен здесь в 0,0\n",
    "        # 2) Стандартное отклонение вычисляется по количеству узлов в следующем слое с помощью функции pow(self .hnodes, -0.5),\n",
    "        #    которая просто возводит количество узлов в степень -0,5.\n",
    "        # 3) Конфигурация массива\n",
    "        # матрица весовых коэффициентов между входным и скрытым слоями\n",
    "        self.wih = numpy.random.normal(0.0, pow(self.hnodes, -0.5),(self.hnodes,self.inodes))\n",
    "        # матрица весовых коэффициентов между скрытым и выходным слоями\n",
    "        self.who = numpy.random.normal(0.0, pow(self.onodes, -0.5),(self.onodes,self.hnodes))\n",
    "        \n",
    "        \n",
    "        self.lr = learningrate # коэффициент обучения\n",
    "        \n",
    "        # использование сигмоиды в качестве функции активации\n",
    "        # expit() - это сигмода y=1/(1+e^-x)\n",
    "        # лямюда-выражение(анонимная функция)\n",
    "        self.activation_function = lambda x: scipy.special.expit(x)\n",
    "        \n",
    "        pass\n",
    "    \n",
    "    # тренировка нейронной сети\n",
    "    def train(self, inputs_list, targets_list):\n",
    "       \n",
    "        # преобразовать список входных значений в двухмерный массив\n",
    "        inputs = numpy.array(inputs_list, ndmin=2).T #транспонированая\n",
    "        # тренировочные примеры\n",
    "        targets = numpy.array(targets_list,ndmin=2).T\n",
    "        \n",
    "        # рассчитать входящие сигналы для скрытого слоя \n",
    "        hidden_inputs = numpy.dot(self.wih, inputs)\n",
    "        # рассчитать исходящие сигналы для скрытого слоя \n",
    "        hidden_outputs = self.activation_function(hidden_inputs)\n",
    "        # рассчитать входящие сигналы для выходного слоя \n",
    "        final_inputs = numpy.dot(self.who, hidden_outputs)\n",
    "        # рассчитать исходящие сигналы для выходного слоя \n",
    "        final_outputs = self.activation_function(final_inputs)\n",
    "        \n",
    "        #ошибка = целевое значение - фактическое значение\n",
    "        output_errors = targets - final_outputs\n",
    "        \n",
    "        #обратное распространение ошибки для узлов скрытого слоя\n",
    "        #ошибки(скрытый)= веса(скрытый_выходной)^Т * ошибки(выходной)\n",
    "        # распределенные пропорционально весовым коэффициентам связей и рекомбинированные на скрытых узлах\n",
    "        hidden_errors = numpy.dot(self.who.T, output_errors)\n",
    "        \n",
    "        # обновить весовые коэффициенты связей между скрытым и выходным слоями\n",
    "        self.who += self.lr*numpy.dot((output_errors*final_outputs*(1.0 - final_outputs)),numpy.transpose(hidden_outputs))\n",
    "        # обновить весовые коэффициенты связей между входным и скрытым слоями\n",
    "        self.wih += self.lr*numpy.dot((hidden_errors*hidden_outputs*(1.0 - hidden_outputs)),numpy.transpose(inputs))\n",
    "        pass\n",
    "    \n",
    "    # опрос нейронной сети\n",
    "    def query(self,inputs_list): #входные данные \n",
    "      \n",
    "        # преобразовать список входных значений в двухмерный массив\n",
    "        inputs = numpy.array(inputs_list, ndmin = 2).T\n",
    "        \n",
    "        # рассчитать входящие сигналы для скрытого слоя \n",
    "        # X(h) = W(ih) * I\n",
    "        hidden_inputs = numpy.dot(self.wih,inputs)\n",
    "        # рассчитать исходящие сигналы для скрытого слоя\n",
    "        # O(h) = sigmoida(X(h))\n",
    "        hidden_outputs = self.activation_function(hidden_inputs)\n",
    "        \n",
    "        # рассчитать входящие сигналы для выходного слоя\n",
    "        # X(o) = X(ho) * O(h)\n",
    "        final_inputs = numpy.dot(self.who,hidden_outputs)\n",
    "        # рассчитать исходящие сигналы для выходного слоя\n",
    "        # O(o) = sigmoida(X(o)\n",
    "        final_outputs = self.activation_function(final_inputs)\n",
    "        \n",
    "        return final_outputs #выходные данные "
   ]
  },
  {
   "cell_type": "code",
   "execution_count": 31,
   "metadata": {},
   "outputs": [],
   "source": [
    "# количество входных, скрытых и выходных узлов\n",
    "input_nodes = 784\n",
    "hidden_nodes = 200\n",
    "output_nodes = 10\n",
    "# коэффициент обучения равен 0,3\n",
    "learningrate = 0.1\n",
    "n = neuralNetwork(input_nodes,hidden_nodes,output_nodes, learningrate)"
   ]
  },
  {
   "cell_type": "code",
   "execution_count": 32,
   "metadata": {},
   "outputs": [],
   "source": [
    "training_data_file = open(\"mnist_dataset/mnist_train_100.csv\", 'r')\n",
    "training_data_list = training_data_file.readlines()\n",
    "training_data_file.close()"
   ]
  },
  {
   "cell_type": "code",
   "execution_count": 42,
   "metadata": {},
   "outputs": [],
   "source": [
    "# тренировка нейронной сети\n",
    "\n",
    "# переменная epochs указывает, сколько раз тренировочный\n",
    "# набор данных используется для тренировки сети\n",
    "epochs = 6\n",
    "\n",
    "for e in range(epochs):\n",
    "    # перебрать все записи в тренировочном наборе данных\n",
    "    for record in training_data_list:\n",
    "        # получить список значений из записи, используя символы запятой (', 1) в качестве разделителей\n",
    "        all_values = record.split(',')\n",
    "        # масштабировать и сместить входные\n",
    "        inputs = (numpy.asfarray(all_values[1:]) / 255.0 * 0.99) + 0.01\n",
    "        # создать целевые выходные значения (все равны 0,01, за исключением желаемого маркерного значения, равного 0,99)\n",
    "        targets = numpy.zeros(output_nodes) + 0.01\n",
    "        # all_values[0] - целевое маркерное значение для данной записи\n",
    "        targets[int(all_values[0])] = 0.99\n",
    "        n.train(inputs, targets)\n",
    "        pass\n",
    "    pass"
   ]
  },
  {
   "cell_type": "code",
   "execution_count": 34,
   "metadata": {},
   "outputs": [],
   "source": [
    "# Сет из собственных изображений\n",
    "our_own_dataset = []"
   ]
  },
  {
   "cell_type": "code",
   "execution_count": 35,
   "metadata": {},
   "outputs": [
    {
     "name": "stdout",
     "output_type": "stream",
     "text": [
      "Загрузка -  myImages\\2828_my_own_2.png\n",
      "0.01\n",
      "1.0\n",
      "Загрузка -  myImages\\2828_my_own_3.png\n",
      "0.01\n",
      "1.0\n",
      "Загрузка -  myImages\\2828_my_own_4.png\n",
      "0.01\n",
      "0.93011767\n",
      "Загрузка -  myImages\\2828_my_own_5.png\n",
      "0.01\n",
      "0.86800003\n",
      "Загрузка -  myImages\\2828_my_own_6.png\n",
      "0.01\n",
      "1.0\n",
      "Загрузка -  myImages\\2828_my_own_7.png\n",
      "0.10612171\n",
      "0.20680353\n"
     ]
    }
   ],
   "source": [
    "for image_file_name in glob.glob('myImages/2828_my_own_?.png'):\n",
    "    print (\"Загрузка - \", image_file_name)\n",
    "    # использовать имя файла для устанвки коректного значения\n",
    "    label = int(image_file_name[-5:-4])\n",
    "    # загрузить данные изображения из png-файлов в массив\n",
    "    img_array = imageio.imread(image_file_name, as_gray=True)\n",
    "    # перевести размер изображения 28х28 в список из 784 значений,инвертировать значения \n",
    "    img_data  = 255.0 - img_array.reshape(784)\n",
    "    \n",
    "    \n",
    "    \n",
    "    # затем масштабируем данные в диапазоне от 0,01 до 1,0\n",
    "    img_data = (img_data / 255.0 * 0.99) + 0.01\n",
    "    print(numpy.min(img_data))\n",
    "    print(numpy.max(img_data))\n",
    "    # добавить метку и данные изображения для тестирования набора данных\n",
    "    record = numpy.append(label,img_data)\n",
    "    #print(record)\n",
    "    our_own_dataset.append(record)\n",
    "    pass"
   ]
  },
  {
   "cell_type": "code",
   "execution_count": 51,
   "metadata": {},
   "outputs": [
    {
     "name": "stdout",
     "output_type": "stream",
     "text": [
      "[[0.0124659 ]\n",
      " [0.02422655]\n",
      " [0.0165931 ]\n",
      " [0.01455999]\n",
      " [0.10459404]\n",
      " [0.06925714]\n",
      " [0.051226  ]\n",
      " [0.02872768]\n",
      " [0.02742832]\n",
      " [0.00591229]]\n",
      "network says  4\n",
      "no match!\n"
     ]
    },
    {
     "data": {
      "image/png": "[encoded data removed]",
      "text/plain": [
       "<Figure size 432x288 with 1 Axes>"
      ]
     },
     "metadata": {},
     "output_type": "display_data"
    }
   ],
   "source": [
    "#Просетируем нейронную сеть нашими собственными изображениями\n",
    "\n",
    "#запись для тестирования\n",
    "item = 5\n",
    "\n",
    "# отобразить изображение\n",
    "matplotlib.pyplot.imshow(our_own_dataset[item][1:].reshape(28,28), cmap='Greys', interpolation='None')\n",
    "\n",
    "# Правильным ответом является первое значение\n",
    "correct_label = our_own_dataset[item][0]\n",
    "# data is remaining values\n",
    "#\n",
    "inputs = our_own_dataset[item][1:]\n",
    "\n",
    "# query the network\n",
    "outputs = n.query(inputs)\n",
    "print (outputs)\n",
    "\n",
    "# the index of the highest value corresponds to the label\n",
    "label = numpy.argmax(outputs)\n",
    "print(\"network says \", label)\n",
    "# append correct or incorrect to list\n",
    "if (label == correct_label):\n",
    "    print (\"match!\")\n",
    "else:\n",
    "    print (\"no match!\")\n",
    "    pass"
   ]
  },
  {
   "cell_type": "code",
   "execution_count": null,
   "metadata": {},
   "outputs": [],
   "source": []
  }
 ],
 "metadata": {
  "kernelspec": {
   "display_name": "Python 3",
   "language": "python",
   "name": "python3"
  },
  "language_info": {
   "codemirror_mode": {
    "name": "ipython",
    "version": 3
   },
   "file_extension": ".py",
   "mimetype": "text/x-python",
   "name": "python",
   "nbconvert_exporter": "python",
   "pygments_lexer": "ipython3",
   "version": "3.6.5"
  }
 },
 "nbformat": 4,
 "nbformat_minor": 2
}
