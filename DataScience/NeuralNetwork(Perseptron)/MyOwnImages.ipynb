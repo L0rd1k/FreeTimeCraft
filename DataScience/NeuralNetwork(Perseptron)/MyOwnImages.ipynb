{
 "cells": [
  {
   "cell_type": "code",
   "execution_count": 1,
   "metadata": {},
   "outputs": [],
   "source": [
    "# helper to load data from PNG image files\n",
    "import imageio\n",
    "# glob helps select multiple files using patterns\n",
    "import glob"
   ]
  },
  {
   "cell_type": "code",
   "execution_count": 2,
   "metadata": {},
   "outputs": [],
   "source": [
    "import numpy\n",
    "# library for plotting arrays\n",
    "import matplotlib.pyplot\n",
    "# ensure the plots are inside this notebook, not an external window\n",
    "%matplotlib inline"
   ]
  },
  {
   "cell_type": "code",
   "execution_count": 3,
   "metadata": {},
   "outputs": [],
   "source": [
    "# our own image test data set\n",
    "our_own_dataset = []"
   ]
  },
  {
   "cell_type": "code",
   "execution_count": 14,
   "metadata": {
    "scrolled": false
   },
   "outputs": [
    {
     "name": "stdout",
     "output_type": "stream",
     "text": [
      "Загрузка -  myImages\\2828_my_own_6.png\n",
      "0.01\n",
      "1.0\n",
      "Загрузка -  myImages\\2828_my_own_7.png\n",
      "0.10612171\n",
      "0.20680353\n"
     ]
    }
   ],
   "source": [
    "for image_file_name in glob.glob('myImages/2828_my_own_?.png'):\n",
    "    print (\"Загрузка - \", image_file_name)\n",
    "    # использовать имя файла для устанвки коректного значения\n",
    "    label = int(image_file_name[-5:-4])\n",
    "    # загрузить данные изображения из png-файлов в массив\n",
    "    img_array = imageio.imread(image_file_name, as_gray=True)\n",
    "    # перевести размер изображения 28х28 в список из 784 значений,инвертировать значения \n",
    "    img_data  = 255.0 - img_array.reshape(784)\n",
    "    \n",
    "    \n",
    "    \n",
    "    # затем масштабируем данные в диапазоне от 0,01 до 1,0\n",
    "    img_data = (img_data / 255.0 * 0.99) + 0.01\n",
    "    print(numpy.min(img_data))\n",
    "    print(numpy.max(img_data))\n",
    "    # добавить метку и данные изображения для тестирования набора данных\n",
    "    record = numpy.append(label,img_data)\n",
    "    #print(record)\n",
    "    our_own_dataset.append(record)\n",
    "    pass"
   ]
  },
  {
   "cell_type": "code",
   "execution_count": null,
   "metadata": {},
   "outputs": [],
   "source": []
  }
 ],
 "metadata": {
  "kernelspec": {
   "display_name": "Python 3",
   "language": "python",
   "name": "python3"
  },
  "language_info": {
   "codemirror_mode": {
    "name": "ipython",
    "version": 3
   },
   "file_extension": ".py",
   "mimetype": "text/x-python",
   "name": "python",
   "nbconvert_exporter": "python",
   "pygments_lexer": "ipython3",
   "version": "3.6.5"
  }
 },
 "nbformat": 4,
 "nbformat_minor": 2
}
