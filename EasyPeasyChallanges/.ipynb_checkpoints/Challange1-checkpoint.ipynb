{
 "cells": [
  {
   "cell_type": "code",
   "execution_count": 4,
   "metadata": {},
   "outputs": [
    {
     "name": "stdout",
     "output_type": "stream",
     "text": [
      "Ifmmp xpsmE\n"
     ]
    }
   ],
   "source": [
    "# 1\n",
    "def LetterExchange(str):\n",
    "    letters = \"abcdefghijklmnopqrstuvwxyzABCDEFGHIJKLMNOPQRSTUVW \"\n",
    "    changes = \"bcdEfghIjklmnOpqrstUvwxyzABCDEFGHIJKLMNOPQRSTUVWZ \"\n",
    "    mapping = {k: v for (k, v) in zip(str + letters, str + changes)}\n",
    "    return \"\".join([mapping[c] for c in str])\n",
    "print(LetterExchange(\"hello world\"))"
   ]
  },
  {
   "cell_type": "code",
   "execution_count": 5,
   "metadata": {},
   "outputs": [
    {
     "name": "stdout",
     "output_type": "stream",
     "text": [
      "1035\n"
     ]
    }
   ],
   "source": [
    "# 2\n",
    "def SimpleAdding(num):\n",
    "    return sum(range(1, num + 1))\n",
    "print(SimpleAdding(45))"
   ]
  },
  {
   "cell_type": "code",
   "execution_count": 6,
   "metadata": {},
   "outputs": [
    {
     "name": "stdout",
     "output_type": "stream",
     "text": [
      "time\n",
      "fun&!! time\n"
     ]
    }
   ],
   "source": [
    "# 3\n",
    "def LongestWord(sentance):\n",
    "    words = \"\".join(elem if elem.isalnum() else ' ' for elem in sentance).split(\",\")\n",
    "    words2 = \"\".join([\",\", c][int(c.isalnum())] for c in sentance).split(\",\")\n",
    "    maxLen = max([len(w) for w in words2])\n",
    "    print([w for w in words2 if len(w) == maxLen][0])\n",
    "    return sentance\n",
    "print(LongestWord(\"fun&!! time\"))"
   ]
  },
  {
   "cell_type": "code",
   "execution_count": 7,
   "metadata": {},
   "outputs": [
    {
     "name": "stdout",
     "output_type": "stream",
     "text": [
      "Hello World\n"
     ]
    }
   ],
   "source": [
    "# 4\n",
    "def LetterCapitalize(str):\n",
    "    values = str.split()\n",
    "    for itr in range(len(values)):\n",
    "        values[itr] = values[itr][0].upper() + values[itr][1:]\n",
    "    return \" \".join(values)\n",
    "print(LetterCapitalize('hello world'))"
   ]
  },
  {
   "cell_type": "code",
   "execution_count": 8,
   "metadata": {},
   "outputs": [
    {
     "name": "stdout",
     "output_type": "stream",
     "text": [
      "false\n"
     ]
    }
   ],
   "source": [
    "# 5\n",
    "def CheckNums(num1, num2):\n",
    "    if num2 > num1:\n",
    "        return 'true'\n",
    "    elif num2 < num1:\n",
    "        return 'false'\n",
    "    return '-1'\n",
    "print(CheckNums(45,12))"
   ]
  },
  {
   "cell_type": "code",
   "execution_count": 13,
   "metadata": {},
   "outputs": [
    {
     "name": "stdout",
     "output_type": "stream",
     "text": [
      "Iterations: 3\n",
      "12\n",
      "34\n",
      "213\n",
      "Sum: 259\n"
     ]
    }
   ],
   "source": [
    "# 6\n",
    "def SumList():\n",
    "    mylist = [int(input()) for item in range(0, int(input(\"Iterations: \")))]\n",
    "    return sum(mylist)\n",
    "print(\"Sum:\",SumList())"
   ]
  },
  {
   "cell_type": "code",
   "execution_count": 15,
   "metadata": {},
   "outputs": [
    {
     "name": "stdout",
     "output_type": "stream",
     "text": [
      "323 245\n",
      "Sum: 568\n"
     ]
    }
   ],
   "source": [
    "# 7\n",
    "def Summator():\n",
    "    x, y = map(int, input().split())\n",
    "    return x + y\n",
    "print(\"Sum:\",Summator())"
   ]
  },
  {
   "cell_type": "code",
   "execution_count": 18,
   "metadata": {},
   "outputs": [
    {
     "name": "stdout",
     "output_type": "stream",
     "text": [
      "Iterations:3\n",
      "12 234\n",
      "2 463\n",
      "3123 34\n",
      "Result: [246, 465, 3157]\n"
     ]
    }
   ],
   "source": [
    "# 8\n",
    "def MapSummator():\n",
    "    my_list = [sum(list(map(int, input().split()))) for _ in range(int(input(\"Iterations:\")))]\n",
    "    result = list()\n",
    "    for elem in my_list:\n",
    "        result.append(elem)\n",
    "    return result\n",
    "print(\"Result:\",MapSummator())"
   ]
  }
 ],
 "metadata": {
  "kernelspec": {
   "display_name": "Python 3",
   "language": "python",
   "name": "python3"
  },
  "language_info": {
   "codemirror_mode": {
    "name": "ipython",
    "version": 3
   },
   "file_extension": ".py",
   "mimetype": "text/x-python",
   "name": "python",
   "nbconvert_exporter": "python",
   "pygments_lexer": "ipython3",
   "version": "3.7.3"
  }
 },
 "nbformat": 4,
 "nbformat_minor": 2
}
