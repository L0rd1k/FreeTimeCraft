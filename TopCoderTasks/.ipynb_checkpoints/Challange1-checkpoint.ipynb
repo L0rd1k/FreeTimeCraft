{
 "cells": [
  {
   "cell_type": "code",
   "execution_count": 2,
   "metadata": {},
   "outputs": [
    {
     "name": "stdout",
     "output_type": "stream",
     "text": [
      "Ifmmp xpsmE\n"
     ]
    }
   ],
   "source": [
    "# 1\n",
    "def LetterExchange(str):\n",
    "    letters = \"abcdefghijklmnopqrstuvwxyzABCDEFGHIJKLMNOPQRSTUVW \"\n",
    "    changes = \"bcdEfghIjklmnOpqrstUvwxyzABCDEFGHIJKLMNOPQRSTUVWZ \"\n",
    "    mapping = {k: v for (k, v) in zip(str + letters, str + changes)}\n",
    "    return \"\".join([mapping[c] for c in str])\n",
    "print(LetterExchange(\"hello world\"))"
   ]
  },
  {
   "cell_type": "code",
   "execution_count": 3,
   "metadata": {},
   "outputs": [
    {
     "name": "stdout",
     "output_type": "stream",
     "text": [
      "1035\n"
     ]
    }
   ],
   "source": [
    "# 2\n",
    "def SimpleAdding(num):\n",
    "    return sum(range(1, num + 1))\n",
    "print(SimpleAdding(45))"
   ]
  },
  {
   "cell_type": "code",
   "execution_count": 4,
   "metadata": {},
   "outputs": [
    {
     "name": "stdout",
     "output_type": "stream",
     "text": [
      "time\n",
      "fun&!! time\n"
     ]
    }
   ],
   "source": [
    "# 3\n",
    "def LongestWord(sentance):\n",
    "    words = \"\".join(elem if elem.isalnum() else ' ' for elem in sentance).split(\",\")\n",
    "    words2 = \"\".join([\",\", c][int(c.isalnum())] for c in sentance).split(\",\")\n",
    "    maxLen = max([len(w) for w in words2])\n",
    "    print([w for w in words2 if len(w) == maxLen][0])\n",
    "    return sentance\n",
    "print(LongestWord(\"fun&!! time\"))"
   ]
  },
  {
   "cell_type": "code",
   "execution_count": 5,
   "metadata": {},
   "outputs": [
    {
     "name": "stdout",
     "output_type": "stream",
     "text": [
      "Hello World\n"
     ]
    }
   ],
   "source": [
    "# 4\n",
    "def LetterCapitalize(str):\n",
    "    values = str.split()\n",
    "    for itr in range(len(values)):\n",
    "        values[itr] = values[itr][0].upper() + values[itr][1:]\n",
    "    return \" \".join(values)\n",
    "print(LetterCapitalize('hello world'))"
   ]
  },
  {
   "cell_type": "code",
   "execution_count": 6,
   "metadata": {},
   "outputs": [
    {
     "name": "stdout",
     "output_type": "stream",
     "text": [
      "false\n"
     ]
    }
   ],
   "source": [
    "# 5\n",
    "def CheckNums(num1, num2):\n",
    "    if num2 > num1:\n",
    "        return 'true'\n",
    "    elif num2 < num1:\n",
    "        return 'false'\n",
    "    return '-1'\n",
    "print(CheckNums(45,12))"
   ]
  },
  {
   "cell_type": "code",
   "execution_count": 7,
   "metadata": {},
   "outputs": [
    {
     "name": "stdout",
     "output_type": "stream",
     "text": [
      "Iterations: 3\n",
      "12\n",
      "23\n",
      "4\n",
      "Sum: 39\n"
     ]
    }
   ],
   "source": [
    "# 6\n",
    "def SumList():\n",
    "    mylist = [int(input()) for item in range(0, int(input(\"Iterations: \")))]\n",
    "    return sum(mylist)\n",
    "print(\"Sum:\",SumList())"
   ]
  },
  {
   "cell_type": "code",
   "execution_count": 8,
   "metadata": {},
   "outputs": [
    {
     "name": "stdout",
     "output_type": "stream",
     "text": [
      "12 34\n",
      "Sum: 46\n"
     ]
    }
   ],
   "source": [
    "# 7\n",
    "def Summator():\n",
    "    x, y = map(int, input().split())\n",
    "    return x + y\n",
    "print(\"Sum:\",Summator())"
   ]
  },
  {
   "cell_type": "code",
   "execution_count": 9,
   "metadata": {},
   "outputs": [
    {
     "name": "stdout",
     "output_type": "stream",
     "text": [
      "Iterations:3\n",
      "12 234\n",
      "234 12\n",
      "34 2\n",
      "Result: [246, 246, 36]\n"
     ]
    }
   ],
   "source": [
    "# 8\n",
    "def MapSummator():\n",
    "    my_list = [sum(list(map(int, input().split()))) for _ in range(int(input(\"Iterations:\")))]\n",
    "    result = list()\n",
    "    for elem in my_list:\n",
    "        result.append(elem)\n",
    "    return result\n",
    "print(\"Result:\",MapSummator())"
   ]
  },
  {
   "cell_type": "raw",
   "metadata": {},
   "source": [
    "# 9 \n",
    "Have the function PentagonalNumber(num) read num which will be a positive integer and determine how many dots exist in a pentagonal shape around a center dot on the Nth iteration. For example, in the image below you can see that on the first iteration there is only a single dot, on the second iteration there are 6 dots, on the third there are 16 dots, and on the fourth there are 31 dots."
   ]
  },
  {
   "cell_type": "code",
   "execution_count": 10,
   "metadata": {},
   "outputs": [
    {
     "name": "stdout",
     "output_type": "stream",
     "text": [
      "3\n",
      "16.0\n"
     ]
    }
   ],
   "source": [
    "def PentagonalNumber(num):\n",
    "    return 1 + 5 * (int(num) - 1) * int(num) / 2\n",
    "\n",
    "print(PentagonalNumber(input(\"Value: \")))"
   ]
  },
  {
   "cell_type": "raw",
   "metadata": {},
   "source": [
    "# 10\n",
    "Have the function TimeConvert(num) take the num parameter being passed and return the number of hours and minutes the parameter converts to (ie. if num = 63 then the output should be 1:3). Separate the number of hours and minutes with a colon."
   ]
  },
  {
   "cell_type": "code",
   "execution_count": 2,
   "metadata": {},
   "outputs": [
    {
     "name": "stdout",
     "output_type": "stream",
     "text": [
      "456\n",
      "7:36\n"
     ]
    }
   ],
   "source": [
    "def TimeConverter(num):\n",
    "    return str(int(num) // 60)+\":\"+str(int(num) % 60)\n",
    "print(TimeConverter(input()))"
   ]
  },
  {
   "cell_type": "raw",
   "metadata": {},
   "source": [
    "# 11\n",
    "Have the function SimpleSymbols(str) take the str parameter being passed and determine if it is an acceptable sequence by either returning the string true or false. The str parameter will be composed of + and = symbols with several characters between them (ie. ++d+===+c++==a) and for the string to be true each letter must be surrounded by a + symbol. So the string to the left would be false. The string will not be empty and will have at least one letter."
   ]
  },
  {
   "cell_type": "code",
   "execution_count": 4,
   "metadata": {},
   "outputs": [
    {
     "name": "stdout",
     "output_type": "stream",
     "text": [
      "++d+===+c++==a\n",
      "false\n"
     ]
    }
   ],
   "source": [
    "def SimpleSymbols(s):\n",
    "    s = '=' + s + '='\n",
    "    for i in s:\n",
    "        if i in 'abcdefghijklmnopqrstuvwxyz':\n",
    "            if not s[s.index(i) - 1] == '+' or not s[s.index(i) + 1] == '+':\n",
    "                return 'false'\n",
    "    return 'true'\n",
    "\n",
    "print(SimpleSymbols(input()))"
   ]
  },
  {
   "cell_type": "raw",
   "metadata": {},
   "source": [
    "# 12\n",
    "Have the function AlphabetSoup(str) take the str string parameter being passed and return the string with the letters in alphabetical order (ie. hello becomes ehllo). Assume numbers and punctuation symbols will not be included in the string."
   ]
  },
  {
   "cell_type": "code",
   "execution_count": 5,
   "metadata": {},
   "outputs": [
    {
     "name": "stdout",
     "output_type": "stream",
     "text": [
      "Hello World!\n",
      " !HWdellloor\n"
     ]
    }
   ],
   "source": [
    "def AlphabetSoup(str):\n",
    "    alph_sort = ''.join(list(sorted(list(str))))\n",
    "    return alph_sort\n",
    "\n",
    "print(AlphabetSoup(input()))"
   ]
  },
  {
   "cell_type": "raw",
   "metadata": {},
   "source": [
    "# 13\n",
    "Have the function KaprekarsConstant(num) take the num parameter being passed which will be a 4-digit number with at least two distinct digits. Your program should perform the following routine on the number: Arrange the digits in descending order and in ascending order (adding zeroes to fit it to a 4-digit number), and subtract the smaller number from the bigger number. Then repeat the previous step. Performing this routine will always cause you to reach a fixed number: 6174. Then performing the routine on 6174 will always give you 6174 (7641 - 1467 = 6174). Your program should return the number of times this routine must be performed until 6174 is reached. For example: if num is 3524 your program should return 3 because of the following steps: (1) 5432 - 2345 = 3087, (2) 8730 - 0378 = 8352, (3) 8532 - 2358 = 6174."
   ]
  },
  {
   "cell_type": "code",
   "execution_count": 10,
   "metadata": {},
   "outputs": [
    {
     "name": "stdout",
     "output_type": "stream",
     "text": [
      "3524\n",
      "5432 - 2345 = 3087\n",
      "8730 - 0378 = 8352\n",
      "8532 - 2358 = 6174\n",
      "3\n"
     ]
    }
   ],
   "source": [
    "def KaprekarsConstant(num):\n",
    "    iter = 0\n",
    "    while(int(num) != 6174):\n",
    "        num_f = ''.join(sorted(str(num), reverse = False))\n",
    "        num_t = ''.join(sorted(str(num), reverse = True))\n",
    "        num = int(num_t) - int(num_f)\n",
    "        print (num_t, '-', num_f, '=', num)\n",
    "        if int(len(str(num))) < 4:\n",
    "            for item in range(4 - int(len(str(num)))):\n",
    "               num = str(num) + \"0\"\n",
    "        iter += 1\n",
    "    return iter\n",
    "print(KaprekarsConstant(input()))"
   ]
  },
  {
   "cell_type": "code",
   "execution_count": null,
   "metadata": {},
   "outputs": [],
   "source": [
    "#OR"
   ]
  },
  {
   "cell_type": "code",
   "execution_count": 8,
   "metadata": {},
   "outputs": [
    {
     "name": "stdout",
     "output_type": "stream",
     "text": [
      "3524\n",
      "3\n"
     ]
    }
   ],
   "source": [
    "def KaprekarsConstant_Second(num):\n",
    "    iter = 0\n",
    "    while num != 6174:\n",
    "        num = list(str(num))\n",
    "        if(len(num) < 4):\n",
    "            while len(num) != 4:\n",
    "                num.insert(1,'0')\n",
    "        iter += 1\n",
    "        x, y = int(''.join([str(l) for l in (sorted(num))])[::-1]), \\\n",
    "               int(''.join([str(l) for l in (sorted(num))]))\n",
    "        num = x - y\n",
    "    return iter\n",
    "print(KaprekarsConstant_Second(input()))"
   ]
  },
  {
   "cell_type": "raw",
   "metadata": {},
   "source": [
    "# 14\n",
    "Have the function ChessboardTraveling(str) read str which will be a string consisting of the location of a space on a standard 8x8 chess board with no pieces on the board along with another space on the chess board. The structure of str will be the following: \"(x y)(a b)\" where (x y) represents the position you are currently on with x and y ranging from 1 to 8 and (a b) represents some other space on the chess board with a and b also ranging from 1 to 8 where a > x and b > y. Your program should determine how many ways there are of traveling from (x y) on the board to (a b) moving only up and to the right. For example: if str is (1 1)(2 2) then your program should output 2 because there are only two possible ways to travel from space (1 1) on a chessboard to space (2 2) while making only moves up and to the right."
   ]
  },
  {
   "cell_type": "code",
   "execution_count": 11,
   "metadata": {},
   "outputs": [
    {
     "name": "stdout",
     "output_type": "stream",
     "text": [
      "(1 1)(2 2)\n",
      "2\n"
     ]
    }
   ],
   "source": [
    "def ChessboardTraveling(s):\n",
    "    board = [[0, 1, 1, 1, 1, 1, 1, 1],\n",
    "             [1, 2, 3, 4, 5, 6, 7, 8],\n",
    "             [1, 3, 6, 10, 15, 21, 28, 36],\n",
    "             [1, 4, 10, 20, 35, 56, 84, 120],\n",
    "             [1, 5, 15, 35, 70, 126, 210, 330],\n",
    "             [1, 6, 21, 56, 126, 252, 462, 792],\n",
    "             [1, 7, 28, 84, 210, 462, 924, 1716],\n",
    "             [1, 8, 36, 120, 330, 792, 1716, 3432]]\n",
    "    return board[int(s[6]) - int(s[1])][int(s[8]) - int(s[3])]\n",
    "print(ChessboardTraveling(input()))"
   ]
  },
  {
<<<<<<< HEAD
   "cell_type": "raw",
   "metadata": {},
   "source": [
    "#14 \n",
    "Have the function ClosestEnemyII(strArr) read the matrix of numbers stored in strArr which will be a 2D matrix that contains only the integers 1, 0, or 2. Then from the position in the matrix where a 1 is, return the number of spaces either left, right, down, or up you must move to reach an enemy which is represented by a 2."
   ]
  },
  {
   "cell_type": "code",
   "execution_count": 1,
   "metadata": {},
   "outputs": [
    {
     "name": "stdout",
     "output_type": "stream",
     "text": [
      "2\n"
     ]
    }
   ],
   "source": [
    "def ClosestWay():\n",
    "    destination = list()\n",
    "    strarray = [\"00100\", \"00000\", \"00000\",\" 20002\",\"02000\"]\n",
    "    for i, row in enumerate(strarray):\n",
    "        # print(\"index i: \", i, \"array row: \", row)\n",
    "        for j, col in enumerate(list(row)):\n",
    "            # print(\"     index j: \", i, j, \"array col: \", col)\n",
    "            if col == '1': px, py = (i, j)\n",
    "            if col == '2': destination.append((i, j))\n",
    "    min_result = list()\n",
    "    for x, y in destination:\n",
    "        no_wrap = abs(px - x) + abs(py - y)\n",
    "        col_wrap = abs(px - x) + abs(py - (len(strarray) - y))\n",
    "        row_wrap = abs((px + len(strarray)) - x) + abs(py - y)\n",
    "        min_result.append(min(no_wrap, col_wrap, row_wrap))\n",
    "    if min_result:\n",
    "        return min(min_result)\n",
    "    else:\n",
    "        return 0\n",
    "\n",
    "\n",
    "print(ClosestWay())"
   ]
  },
  {
=======
>>>>>>> f7f3a47b99c016469d02c4c0dd463718eb950c77
   "cell_type": "code",
   "execution_count": null,
   "metadata": {},
   "outputs": [],
<<<<<<< HEAD
   "source": []
=======
   "source": [
    "#Checking clone"
   ]
>>>>>>> f7f3a47b99c016469d02c4c0dd463718eb950c77
  }
 ],
 "metadata": {
  "kernelspec": {
   "display_name": "Python 3",
   "language": "python",
   "name": "python3"
  },
  "language_info": {
   "codemirror_mode": {
    "name": "ipython",
    "version": 3
   },
   "file_extension": ".py",
   "mimetype": "text/x-python",
   "name": "python",
   "nbconvert_exporter": "python",
   "pygments_lexer": "ipython3",
<<<<<<< HEAD
   "version": "3.7.3"
=======
   "version": "3.6.9"
>>>>>>> f7f3a47b99c016469d02c4c0dd463718eb950c77
  }
 },
 "nbformat": 4,
 "nbformat_minor": 2
}
