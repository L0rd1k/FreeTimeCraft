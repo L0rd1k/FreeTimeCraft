{
 "cells": [
  {
   "cell_type": "code",
   "execution_count": null,
   "metadata": {},
   "outputs": [],
   "source": [
    "import numpy as np\n",
    "import cv2\n",
    "image = cv2.imread('./images/ChildDraw.jpg')\n",
    "\n",
    "def imageCAppr(image):\n",
    "    orig_images = image.copy()\n",
    "    cv2.imshow('Original Image:',orig_images)\n",
    "    gray = cv2.cvtColor(image,cv2.COLOR_BGR2GRAY)\n",
    "    ret,thresh = cv2.threshold(gray, 127,255,cv2.THRESH_BINARY_INV)\n",
    "    contours,hierarchy = cv2.findContours(thresh.copy(),cv2.RETR_LIST,cv2.CHAIN_APPROX_NONE)\n",
    "    for c in contours:\n",
    "        x,y,w,h = cv2.boundingRect(c)\n",
    "        cv2.rectangle(orig_images,(x,y),(x+w,y+h),(0,0,255),2)\n",
    "        cv2.imshow('Vounding rectangle', orig_images)\n",
    "    \n",
    "    for c in contours:\n",
    "        accuracy = 0.01 * cv2.arcLength(c, True)\n",
    "        approx = cv2.approxPolyDP(c,accuracy, True)\n",
    "        cv2.drawContours(image,[approx],0,(0,255,0),2)\n",
    "        cv2.imshow('Approx Poly DP', image)\n",
    "        \n",
    "def imageConvexFull(image):\n",
    "    gray = cv2.cvtColor(image,cv2.COLOR_BGR2GRAY)\n",
    "    cv2.imshow('Original Image', image)\n",
    "    ret, thresh = cv2.threshold(gray,176,255,0)\n",
    "    contours, hierarchy = cv2.findContours(thresh.copy(),cv2.RETR_LIST,cv2.CHAIN_APPROX_NONE)    \n",
    "    n = len(contours)-1\n",
    "    contours = sorted(contours,key = cv2.contourArea,reverse=False)[:n]\n",
    "    for c in contours:\n",
    "        hull = cv2.convexHull(c)\n",
    "        cv2.drawContours(image,[hull],0,(0,255,0),2)\n",
    "        cv2.imshow('Convex Hull',image)\n",
    "    \n",
    "        \n",
    "imageCAppr(image)\n",
    "imageConvexFull(image)\n",
    "cv2.waitKey(0)\n",
    "cv2.destroyAllWindows()"
   ]
  },
  {
   "cell_type": "code",
   "execution_count": null,
   "metadata": {},
   "outputs": [],
   "source": []
  }
 ],
 "metadata": {
  "kernelspec": {
   "display_name": "Python 3",
   "language": "python",
   "name": "python3"
  },
  "language_info": {
   "codemirror_mode": {
    "name": "ipython",
    "version": 3
   },
   "file_extension": ".py",
   "mimetype": "text/x-python",
   "name": "python",
   "nbconvert_exporter": "python",
   "pygments_lexer": "ipython3",
   "version": "3.6.5"
  }
 },
 "nbformat": 4,
 "nbformat_minor": 2
}
